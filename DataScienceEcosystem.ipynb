{
 "cells": [
  {
   "cell_type": "markdown",
   "id": "07fe6675-e14e-4744-b0ab-7b967f0e440d",
   "metadata": {},
   "source": [
    "# Data Science Tools and Ecosystem"
   ]
  },
  {
   "cell_type": "markdown",
   "id": "92c27ce2-cd18-4be6-8f83-2ef745bc3d48",
   "metadata": {},
   "source": [
    "In this notebook, Data Science Tools and Ecosystem are summarized."
   ]
  },
  {
   "cell_type": "markdown",
   "id": "1949c7b9-5dde-44d1-8587-2e4d069e1fe0",
   "metadata": {},
   "source": [
    "#### Objectives:\n",
    "* List popular languages for Data Scienc\n",
    "* Simple arithmetic expression\n",
    "* Convert 200 minutes to hours"
   ]
  },
  {
   "cell_type": "markdown",
   "id": "3bc7fefc-c2cc-4637-98d5-6a5c4a7d070e",
   "metadata": {},
   "source": [
    "Some of the popular languages that Data Scientists use are:\n",
    "1. Python\n",
    "2. R\n",
    "3. Julia\n",
    "4. Scala"
   ]
  },
  {
   "cell_type": "markdown",
   "id": "75930ad8-5c9c-4940-a7b2-50eb5b03ed74",
   "metadata": {},
   "source": [
    "| Data Science Tools |\n",
    "|----------|\n",
    "| Jypter Notebook   | \n",
    "| Jupyter Studio    | \n",
    "| R Studio   |"
   ]
  },
  {
   "cell_type": "markdown",
   "id": "5a066cb5-43b0-4f1c-a173-c1b54fff9e2a",
   "metadata": {},
   "source": [
    "Some of the commonly used libraries used by Data Scientists include:\n",
    "1. Pandas\n",
    "2. Numpy\n",
    "3. Matplotlib"
   ]
  },
  {
   "cell_type": "markdown",
   "id": "1db3cf62-c3b4-45c6-8dc9-e052329a202e",
   "metadata": {},
   "source": [
    "### Below are a few examples of evaluating arithmetic expressions in Python"
   ]
  },
  {
   "cell_type": "code",
   "execution_count": 3,
   "id": "797056d6-2e85-4f16-91ae-13d382b8cd92",
   "metadata": {},
   "outputs": [
    {
     "data": {
      "text/plain": [
       "17"
      ]
     },
     "execution_count": 3,
     "metadata": {},
     "output_type": "execute_result"
    }
   ],
   "source": [
    "(3*4)+5\n",
    "# This a simple arithmetic expression to mutiply then add integers."
   ]
  },
  {
   "cell_type": "code",
   "execution_count": 4,
   "id": "42a5a699-c523-4e49-845d-5f2838494f97",
   "metadata": {},
   "outputs": [
    {
     "data": {
      "text/plain": [
       "3.3333333333333335"
      ]
     },
     "execution_count": 4,
     "metadata": {},
     "output_type": "execute_result"
    }
   ],
   "source": [
    "200/60\n",
    "# This will convert 200 minutes to hours by diving by 60"
   ]
  },
  {
   "cell_type": "markdown",
   "id": "1f29dd67-e103-4c67-9205-9182da95afc4",
   "metadata": {},
   "source": [
    "## Author\n",
    "Younis"
   ]
  },
  {
   "cell_type": "code",
   "execution_count": null,
   "id": "f3e3cd3c-e489-44b8-b8d9-990b7cfbe0b7",
   "metadata": {},
   "outputs": [],
   "source": []
  }
 ],
 "metadata": {
  "kernelspec": {
   "display_name": "Python 3 (ipykernel)",
   "language": "python",
   "name": "python3"
  },
  "language_info": {
   "codemirror_mode": {
    "name": "ipython",
    "version": 3
   },
   "file_extension": ".py",
   "mimetype": "text/x-python",
   "name": "python",
   "nbconvert_exporter": "python",
   "pygments_lexer": "ipython3",
   "version": "3.11.9"
  }
 },
 "nbformat": 4,
 "nbformat_minor": 5
}
